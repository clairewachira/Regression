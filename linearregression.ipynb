{
 "cells": [
  {
   "cell_type": "code",
   "id": "initial_id",
   "metadata": {
    "collapsed": true,
    "ExecuteTime": {
     "end_time": "2024-10-30T10:04:59.517326Z",
     "start_time": "2024-10-30T10:04:58.103680Z"
    }
   },
   "source": [
    "import pandas as pd\n",
    "import numpy as np\n",
    "import matplotlib.pyplot as plt\n",
    "\n",
    "data = pd.read_csv('Nairobi Office Price Ex (2).csv')\n",
    "data.head(), data.info()"
   ],
   "outputs": [
    {
     "name": "stdout",
     "output_type": "stream",
     "text": [
      "<class 'pandas.core.frame.DataFrame'>\n",
      "RangeIndex: 14 entries, 0 to 13\n",
      "Data columns (total 10 columns):\n",
      " #   Column     Non-Null Count  Dtype  \n",
      "---  ------     --------------  -----  \n",
      " 0   LOC        14 non-null     object \n",
      " 1   FUR        14 non-null     object \n",
      " 2   AMB        14 non-null     object \n",
      " 3   PROX_SCH   14 non-null     object \n",
      " 4   PROX_ROAD  14 non-null     object \n",
      " 5   PROX_MALL  14 non-null     object \n",
      " 6   WATER      14 non-null     object \n",
      " 7   HK_SER     14 non-null     object \n",
      " 8   SIZE       14 non-null     float64\n",
      " 9   PRICE      14 non-null     float64\n",
      "dtypes: float64(2), object(8)\n",
      "memory usage: 1.2+ KB\n"
     ]
    },
    {
     "data": {
      "text/plain": [
       "(        LOC  FUR          AMB PROX_SCH PROX_ROAD PROX_MALL WATER HK_SER  \\\n",
       " 0     karen  yes       serene       no       yes       yes   yes    yes   \n",
       " 1  madaraka  yes  semi_serene      yes       yes       yes    no     no   \n",
       " 2     karen   no        noisy       no       yes       yes   yes    yes   \n",
       " 3     karen  yes  semi_serene       no        no        no   yes    yes   \n",
       " 4  buruburu   no  semi_serene       no       yes       yes   yes    yes   \n",
       " \n",
       "         SIZE      PRICE  \n",
       " 0  32.502345  31.707006  \n",
       " 1  53.426804  68.777596  \n",
       " 2  61.530358  62.562382  \n",
       " 3  47.475640  71.546632  \n",
       " 4  59.813208  87.230925  ,\n",
       " None)"
      ]
     },
     "execution_count": 1,
     "metadata": {},
     "output_type": "execute_result"
    }
   ],
   "execution_count": 1
  },
  {
   "metadata": {
    "ExecuteTime": {
     "end_time": "2024-10-30T10:06:01.992288Z",
     "start_time": "2024-10-30T10:06:01.973063Z"
    }
   },
   "cell_type": "code",
   "source": [
    "import numpy as np\n",
    "\n",
    "# Extract the relevant columns for the regression task\n",
    "data = data[['SIZE', 'PRICE']]\n",
    "X = data['SIZE'].values\n",
    "y = data['PRICE'].values\n",
    "\n",
    "# Define Mean Squared Error (MSE) function\n",
    "def mean_squared_error(y_true, y_pred):\n",
    "    return np.mean((y_true - y_pred) ** 2)\n",
    "\n",
    "# Define Gradient Descent function to update slope (m) and intercept (c)\n",
    "def gradient_descent(X, y, m, c, learning_rate):\n",
    "    n = len(y)\n",
    "    y_pred = m * X + c\n",
    "    # Compute gradients\n",
    "    dm = (-2 / n) * sum(X * (y - y_pred))\n",
    "    dc = (-2 / n) * sum(y - y_pred)\n",
    "    # Update weights\n",
    "    m -= learning_rate * dm\n",
    "    c -= learning_rate * dc\n",
    "    return m, c\n",
    "\n",
    "# Initialize parameters\n",
    "m, c = np.random.rand(2)  # Random initial values for slope and intercept\n",
    "learning_rate = 0.01\n",
    "epochs = 10\n",
    "\n",
    "# Train the model and print MSE for each epoch\n",
    "errors = []\n",
    "for epoch in range(epochs):\n",
    "    y_pred = m * X + c\n",
    "    error = mean_squared_error(y, y_pred)\n",
    "    errors.append(error)\n",
    "    print(f\"Epoch {epoch + 1}, MSE: {error:.4f}\")\n",
    "    m, c = gradient_descent(X, y, m, c, learning_rate)\n",
    "\n",
    "# Final model parameters\n",
    "m, c, errors[-1]\n"
   ],
   "id": "9956f0c1c37dc418",
   "outputs": [
    {
     "name": "stdout",
     "output_type": "stream",
     "text": [
      "Epoch 1, MSE: 4228.1388\n",
      "Epoch 2, MSE: 10729776.8976\n",
      "Epoch 3, MSE: 27720518540.5983\n",
      "Epoch 4, MSE: 71616821514602.8125\n",
      "Epoch 5, MSE: 185024285538284064.0000\n",
      "Epoch 6, MSE: 478015995613655465984.0000\n",
      "Epoch 7, MSE: 1234969190113340360228864.0000\n",
      "Epoch 8, MSE: 3190581307998455959870504960.0000\n",
      "Epoch 9, MSE: 8242966030605893941069000736768.0000\n",
      "Epoch 10, MSE: 21295959081621870648153709238812672.0000\n"
     ]
    },
    {
     "data": {
      "text/plain": [
       "(-1.456815305227146e+17, -2828640462327186.0, 2.129595908162187e+34)"
      ]
     },
     "execution_count": 2,
     "metadata": {},
     "output_type": "execute_result"
    }
   ],
   "execution_count": 2
  },
  {
   "metadata": {
    "ExecuteTime": {
     "end_time": "2024-10-30T10:06:28.604800Z",
     "start_time": "2024-10-30T10:06:28.577559Z"
    }
   },
   "cell_type": "code",
   "source": [
    "# Adjust the learning rate\n",
    "learning_rate = 0.00001  # Lower the learning rate\n",
    "\n",
    "# Reinitialize parameters\n",
    "m, c = np.random.rand(2)\n",
    "errors = []\n",
    "\n",
    "# Retrain the model with adjusted learning rate\n",
    "for epoch in range(epochs):\n",
    "    y_pred = m * X + c\n",
    "    error = mean_squared_error(y, y_pred)\n",
    "    errors.append(error)\n",
    "    print(f\"Epoch {epoch + 1}, MSE: {error:.4f}\")\n",
    "    m, c = gradient_descent(X, y, m, c, learning_rate)\n",
    "\n",
    "# Final model parameters after adjustment\n",
    "m, c, errors[-1]\n"
   ],
   "id": "d671e358753e6c7",
   "outputs": [
    {
     "name": "stdout",
     "output_type": "stream",
     "text": [
      "Epoch 1, MSE: 465.6340\n",
      "Epoch 2, MSE: 426.1917\n",
      "Epoch 3, MSE: 390.7319\n",
      "Epoch 4, MSE: 358.8525\n",
      "Epoch 5, MSE: 330.1919\n",
      "Epoch 6, MSE: 304.4253\n",
      "Epoch 7, MSE: 281.2603\n",
      "Epoch 8, MSE: 260.4344\n",
      "Epoch 9, MSE: 241.7112\n",
      "Epoch 10, MSE: 224.8785\n"
     ]
    },
    {
     "data": {
      "text/plain": [
       "(1.1172130519335386, 0.9375690275768012, 224.87851502884374)"
      ]
     },
     "execution_count": 3,
     "metadata": {},
     "output_type": "execute_result"
    }
   ],
   "execution_count": 3
  },
  {
   "metadata": {
    "ExecuteTime": {
     "end_time": "2024-10-30T10:07:50.698463Z",
     "start_time": "2024-10-30T10:07:50.364809Z"
    }
   },
   "cell_type": "code",
   "source": [
    "import matplotlib.pyplot as plt\n",
    "\n",
    "# Plotting the data points and the line of best fit\n",
    "plt.figure(figsize=(10, 6))\n",
    "plt.scatter(X, y, color='blue', label='Actual Data')\n",
    "plt.plot(X, m * X + c, color='red', label='Line of Best Fit')\n",
    "plt.xlabel('Office Size (sq. ft)')\n",
    "plt.ylabel('Office Price')\n",
    "plt.title('Office Size vs. Office Price with Line of Best Fit')\n",
    "plt.legend()\n",
    "plt.show()\n",
    "\n",
    "# Predict the office price when size is 100 sq. ft.\n",
    "predicted_price = m * 100 + c\n",
    "predicted_price\n"
   ],
   "id": "a6f5dd4fa0a1d88c",
   "outputs": [
    {
     "data": {
      "text/plain": [
       "<Figure size 1000x600 with 1 Axes>"
      ],
      "image/png": "[encoded data removed]"
     },
     "metadata": {},
     "output_type": "display_data"
    },
    {
     "data": {
      "text/plain": [
       "112.65887422093066"
      ]
     },
     "execution_count": 4,
     "metadata": {},
     "output_type": "execute_result"
    }
   ],
   "execution_count": 4
  }
 ],
 "metadata": {
  "kernelspec": {
   "display_name": "Python 3",
   "language": "python",
   "name": "python3"
  },
  "language_info": {
   "codemirror_mode": {
    "name": "ipython",
    "version": 2
   },
   "file_extension": ".py",
   "mimetype": "text/x-python",
   "name": "python",
   "nbconvert_exporter": "python",
   "pygments_lexer": "ipython2",
   "version": "2.7.6"
  }
 },
 "nbformat": 4,
 "nbformat_minor": 5
}
